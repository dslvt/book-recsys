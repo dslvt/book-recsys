{
 "metadata": {
  "language_info": {
   "codemirror_mode": {
    "name": "ipython",
    "version": 3
   },
   "file_extension": ".py",
   "mimetype": "text/x-python",
   "name": "python",
   "nbconvert_exporter": "python",
   "pygments_lexer": "ipython3",
   "version": "3.8.5"
  },
  "orig_nbformat": 2,
  "kernelspec": {
   "name": "python385jvsc74a57bd0dc2482fdb29dd640ecb4d29758d2d84408678b6b9b5484aeb59888d699bab397",
   "display_name": "Python 3.8.5 64-bit ('base': conda)"
  },
  "metadata": {
   "interpreter": {
    "hash": "585c67fcbfc0a29cb63d7efe453783044813bd2a4e8d9e51be950eac532c6793"
   }
  }
 },
 "nbformat": 4,
 "nbformat_minor": 2,
 "cells": [
  {
   "cell_type": "code",
   "execution_count": 1,
   "metadata": {},
   "outputs": [],
   "source": [
    "import pandas as pd\n",
    "import numpy as np"
   ]
  },
  {
   "cell_type": "code",
   "execution_count": 2,
   "metadata": {},
   "outputs": [
    {
     "output_type": "stream",
     "name": "stdout",
     "text": [
      "/Users/buldiga/Documents/ml/book-recsys/notebooks\n"
     ]
    }
   ],
   "source": [
    "import os\n",
    "\n",
    "print(os.getcwd())"
   ]
  },
  {
   "cell_type": "code",
   "execution_count": 12,
   "metadata": {},
   "outputs": [],
   "source": [
    "df = pd.read_csv('../large_files/interactions.csv')\n",
    "users = pd.read_csv('../large_files/users.csv')"
   ]
  },
  {
   "cell_type": "code",
   "execution_count": 7,
   "metadata": {},
   "outputs": [],
   "source": [
    "df[\"start_date\"] = pd.to_datetime(df[\"start_date\"])\n",
    "min_date = df[\"start_date\"].max().normalize() - pd.DateOffset(days=30)"
   ]
  },
  {
   "cell_type": "code",
   "execution_count": 9,
   "metadata": {},
   "outputs": [],
   "source": [
    "rec = (\n",
    "            df.loc[df[\"start_date\"] > min_date, \"item_id\"]\n",
    "            .value_counts()\n",
    "            .head(100)\n",
    "            .index.values)"
   ]
  },
  {
   "cell_type": "code",
   "execution_count": 13,
   "metadata": {},
   "outputs": [
    {
     "output_type": "execute_result",
     "data": {
      "text/plain": [
       "        user_id     age  sex\n",
       "0             0   45_54  1.0\n",
       "1             1   25_34  0.0\n",
       "2             2   45_54  0.0\n",
       "3             3  65_inf  0.0\n",
       "4             4   18_24  0.0\n",
       "...         ...     ...  ...\n",
       "137249   166060   25_34  0.0\n",
       "137250   166061   35_44  1.0\n",
       "137251   166062   45_54  1.0\n",
       "137252   166065   25_34  0.0\n",
       "137253   166066   45_54  0.0\n",
       "\n",
       "[137254 rows x 3 columns]"
      ],
      "text/html": "<div>\n<style scoped>\n    .dataframe tbody tr th:only-of-type {\n        vertical-align: middle;\n    }\n\n    .dataframe tbody tr th {\n        vertical-align: top;\n    }\n\n    .dataframe thead th {\n        text-align: right;\n    }\n</style>\n<table border=\"1\" class=\"dataframe\">\n  <thead>\n    <tr style=\"text-align: right;\">\n      <th></th>\n      <th>user_id</th>\n      <th>age</th>\n      <th>sex</th>\n    </tr>\n  </thead>\n  <tbody>\n    <tr>\n      <th>0</th>\n      <td>0</td>\n      <td>45_54</td>\n      <td>1.0</td>\n    </tr>\n    <tr>\n      <th>1</th>\n      <td>1</td>\n      <td>25_34</td>\n      <td>0.0</td>\n    </tr>\n    <tr>\n      <th>2</th>\n      <td>2</td>\n      <td>45_54</td>\n      <td>0.0</td>\n    </tr>\n    <tr>\n      <th>3</th>\n      <td>3</td>\n      <td>65_inf</td>\n      <td>0.0</td>\n    </tr>\n    <tr>\n      <th>4</th>\n      <td>4</td>\n      <td>18_24</td>\n      <td>0.0</td>\n    </tr>\n    <tr>\n      <th>...</th>\n      <td>...</td>\n      <td>...</td>\n      <td>...</td>\n    </tr>\n    <tr>\n      <th>137249</th>\n      <td>166060</td>\n      <td>25_34</td>\n      <td>0.0</td>\n    </tr>\n    <tr>\n      <th>137250</th>\n      <td>166061</td>\n      <td>35_44</td>\n      <td>1.0</td>\n    </tr>\n    <tr>\n      <th>137251</th>\n      <td>166062</td>\n      <td>45_54</td>\n      <td>1.0</td>\n    </tr>\n    <tr>\n      <th>137252</th>\n      <td>166065</td>\n      <td>25_34</td>\n      <td>0.0</td>\n    </tr>\n    <tr>\n      <th>137253</th>\n      <td>166066</td>\n      <td>45_54</td>\n      <td>0.0</td>\n    </tr>\n  </tbody>\n</table>\n<p>137254 rows × 3 columns</p>\n</div>"
     },
     "metadata": {},
     "execution_count": 13
    }
   ],
   "source": [
    "users"
   ]
  },
  {
   "cell_type": "code",
   "execution_count": 29,
   "metadata": {},
   "outputs": [],
   "source": [
    "merged = df.merge(users, on='user_id').head(10)"
   ]
  },
  {
   "cell_type": "code",
   "execution_count": 19,
   "metadata": {},
   "outputs": [
    {
     "output_type": "execute_result",
     "data": {
      "text/plain": [
       "((826154, 5), (727426, 5))"
      ]
     },
     "metadata": {},
     "execution_count": 19
    }
   ],
   "source": [
    "df[df['progress'] < 50].shape, df[df['progress'] > 50].shape"
   ]
  },
  {
   "cell_type": "code",
   "execution_count": 21,
   "metadata": {},
   "outputs": [],
   "source": [
    "submission = pd.read_csv(\"../large_files/sample_submission.csv\")\n",
    "pred_pop = pd.DataFrame({\"user_id\": submission[\"Id\"].unique()})"
   ]
  },
  {
   "source": [
    "user_ids_pred = set(list(pred_pop['user_id']))"
   ],
   "cell_type": "code",
   "metadata": {},
   "execution_count": 24,
   "outputs": []
  },
  {
   "cell_type": "code",
   "execution_count": 25,
   "metadata": {},
   "outputs": [],
   "source": [
    "user_ids = set(list(users['user_id']))"
   ]
  },
  {
   "cell_type": "code",
   "execution_count": 28,
   "metadata": {},
   "outputs": [
    {
     "output_type": "execute_result",
     "data": {
      "text/plain": [
       "(547, 2527)"
      ]
     },
     "metadata": {},
     "execution_count": 28
    }
   ],
   "source": [
    "len(user_ids_pred.difference(user_ids)), len(user_ids_pred.intersection(user_ids))"
   ]
  },
  {
   "cell_type": "code",
   "execution_count": 37,
   "metadata": {},
   "outputs": [],
   "source": [
    "usr = pred_pop.merge(users, how='left', on='user_id').fillna(1.0)"
   ]
  },
  {
   "cell_type": "code",
   "execution_count": 43,
   "metadata": {},
   "outputs": [
    {
     "output_type": "stream",
     "name": "stdout",
     "text": [
      "user_id    10001\nage        25_34\nsex          0.0\nName: 0, dtype: object\nwoman\n"
     ]
    }
   ],
   "source": [
    "for index, row in usr.iterrows():\n",
    "    print(row)\n",
    "    if row['sex'] == 0.0:\n",
    "        print('woman')\n",
    "    break"
   ]
  },
  {
   "cell_type": "code",
   "execution_count": null,
   "metadata": {},
   "outputs": [],
   "source": []
  }
 ]
}