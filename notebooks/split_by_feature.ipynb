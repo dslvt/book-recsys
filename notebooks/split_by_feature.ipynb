{
 "metadata": {
  "language_info": {
   "codemirror_mode": {
    "name": "ipython",
    "version": 3
   },
   "file_extension": ".py",
   "mimetype": "text/x-python",
   "name": "python",
   "nbconvert_exporter": "python",
   "pygments_lexer": "ipython3",
   "version": "3.8.5"
  },
  "orig_nbformat": 2,
  "kernelspec": {
   "name": "python385jvsc74a57bd0dc2482fdb29dd640ecb4d29758d2d84408678b6b9b5484aeb59888d699bab397",
   "display_name": "Python 3.8.5 64-bit ('base': conda)"
  },
  "metadata": {
   "interpreter": {
    "hash": "585c67fcbfc0a29cb63d7efe453783044813bd2a4e8d9e51be950eac532c6793"
   }
  }
 },
 "nbformat": 4,
 "nbformat_minor": 2,
 "cells": [
  {
   "cell_type": "code",
   "execution_count": 2,
   "metadata": {},
   "outputs": [],
   "source": [
    "import pandas as pd\n",
    "import numpy as np"
   ]
  },
  {
   "cell_type": "code",
   "execution_count": 3,
   "metadata": {},
   "outputs": [
    {
     "output_type": "stream",
     "name": "stdout",
     "text": [
      "/Users/buldiga/Documents/ml/book-recsys/notebooks\n"
     ]
    }
   ],
   "source": [
    "import os\n",
    "\n",
    "print(os.getcwd())"
   ]
  },
  {
   "cell_type": "code",
   "execution_count": 33,
   "metadata": {},
   "outputs": [],
   "source": [
    "df = pd.read_csv('../large_files/interactions.csv')\n",
    "users = pd.read_csv('../large_files/users.csv')"
   ]
  },
  {
   "cell_type": "code",
   "execution_count": 34,
   "metadata": {},
   "outputs": [],
   "source": [
    "df[\"start_date\"] = pd.to_datetime(df[\"start_date\"])\n",
    "min_date = df[\"start_date\"].max().normalize() - pd.DateOffset(days=30)"
   ]
  },
  {
   "cell_type": "code",
   "execution_count": 29,
   "metadata": {},
   "outputs": [],
   "source": [
    "rec = (\n",
    "            df.loc[df[\"start_date\"] > min_date, \"item_id\"]\n",
    "            .value_counts()\n",
    "            .head(100)\n",
    "            .index.values)"
   ]
  },
  {
   "cell_type": "code",
   "execution_count": 30,
   "metadata": {},
   "outputs": [
    {
     "output_type": "execute_result",
     "data": {
      "text/plain": [
       "array([283713, 276903, 184549, 168963, 357309, 143175, 385281,  80003,\n",
       "        55466, 287060, 352049, 187325, 267817, 112869, 242176,  79499,\n",
       "        50718, 325439,  33801, 127019, 323949, 321351, 390771,  93751,\n",
       "        56877, 360740, 262464, 334106, 290266, 374648,   5408,  21313,\n",
       "        51423, 190198,  40953, 302067, 160349, 131612, 194169, 231623,\n",
       "       273112, 117325,   3465, 229030,  91236, 246948, 112796, 352701,\n",
       "       256084, 201080, 364570, 178529, 354482, 232060, 344047, 350854,\n",
       "        11316,  10224, 389882, 267878, 224853, 318926, 220922, 313220,\n",
       "       247682, 229111, 126630, 305061, 249083, 122140, 143526, 267291,\n",
       "       140100, 379918,  34223, 109091, 173173,  69198, 202054,  85489,\n",
       "       292395, 310921,  50124, 281368, 268571, 229939,  76747, 280876,\n",
       "       279488, 137878, 344432, 207599,  67966, 166662, 202142,  55495,\n",
       "       337820, 353554, 143687,  93398])"
      ]
     },
     "metadata": {},
     "execution_count": 30
    }
   ],
   "source": [
    "rec"
   ]
  },
  {
   "cell_type": "code",
   "execution_count": 35,
   "metadata": {},
   "outputs": [],
   "source": [
    "merged = df.merge(users, on='user_id')"
   ]
  },
  {
   "cell_type": "code",
   "execution_count": 9,
   "metadata": {},
   "outputs": [
    {
     "output_type": "execute_result",
     "data": {
      "text/plain": [
       "((826154, 5), (727426, 5))"
      ]
     },
     "metadata": {},
     "execution_count": 9
    }
   ],
   "source": [
    "df[df['progress'] < 50].shape, df[df['progress'] > 50].shape"
   ]
  },
  {
   "cell_type": "code",
   "execution_count": 10,
   "metadata": {},
   "outputs": [],
   "source": [
    "submission = pd.read_csv(\"../large_files/sample_submission.csv\")\n",
    "pred_pop = pd.DataFrame({\"user_id\": submission[\"Id\"].unique()})"
   ]
  },
  {
   "source": [
    "user_ids_pred = set(list(pred_pop['user_id']))"
   ],
   "cell_type": "code",
   "metadata": {},
   "execution_count": 11,
   "outputs": []
  },
  {
   "cell_type": "code",
   "execution_count": 12,
   "metadata": {},
   "outputs": [],
   "source": [
    "user_ids = set(list(users['user_id']))"
   ]
  },
  {
   "cell_type": "code",
   "execution_count": 13,
   "metadata": {},
   "outputs": [
    {
     "output_type": "execute_result",
     "data": {
      "text/plain": [
       "(547, 2527)"
      ]
     },
     "metadata": {},
     "execution_count": 13
    }
   ],
   "source": [
    "len(user_ids_pred.difference(user_ids)), len(user_ids_pred.intersection(user_ids))"
   ]
  },
  {
   "cell_type": "code",
   "execution_count": 14,
   "metadata": {},
   "outputs": [],
   "source": [
    "usr = pred_pop.merge(users, how='left', on='user_id').fillna(1.0)"
   ]
  },
  {
   "cell_type": "code",
   "execution_count": 15,
   "metadata": {},
   "outputs": [
    {
     "output_type": "stream",
     "name": "stdout",
     "text": [
      "user_id    10001\nage        25_34\nsex          0.0\nName: 0, dtype: object\nwoman\n"
     ]
    }
   ],
   "source": [
    "for index, row in usr.iterrows():\n",
    "    print(row)\n",
    "    if row['sex'] == 0.0:\n",
    "        print('woman')\n",
    "    break"
   ]
  },
  {
   "cell_type": "code",
   "execution_count": 19,
   "metadata": {},
   "outputs": [
    {
     "output_type": "execute_result",
     "data": {
      "text/plain": [
       "        user_id    sex\n",
       "age                   \n",
       "18_24     28413  28097\n",
       "25_34     36701  36449\n",
       "35_44     31373  31185\n",
       "45_54     22636  22293\n",
       "55_64     11803  11488\n",
       "65_inf     6318   6118"
      ],
      "text/html": "<div>\n<style scoped>\n    .dataframe tbody tr th:only-of-type {\n        vertical-align: middle;\n    }\n\n    .dataframe tbody tr th {\n        vertical-align: top;\n    }\n\n    .dataframe thead th {\n        text-align: right;\n    }\n</style>\n<table border=\"1\" class=\"dataframe\">\n  <thead>\n    <tr style=\"text-align: right;\">\n      <th></th>\n      <th>user_id</th>\n      <th>sex</th>\n    </tr>\n    <tr>\n      <th>age</th>\n      <th></th>\n      <th></th>\n    </tr>\n  </thead>\n  <tbody>\n    <tr>\n      <th>18_24</th>\n      <td>28413</td>\n      <td>28097</td>\n    </tr>\n    <tr>\n      <th>25_34</th>\n      <td>36701</td>\n      <td>36449</td>\n    </tr>\n    <tr>\n      <th>35_44</th>\n      <td>31373</td>\n      <td>31185</td>\n    </tr>\n    <tr>\n      <th>45_54</th>\n      <td>22636</td>\n      <td>22293</td>\n    </tr>\n    <tr>\n      <th>55_64</th>\n      <td>11803</td>\n      <td>11488</td>\n    </tr>\n    <tr>\n      <th>65_inf</th>\n      <td>6318</td>\n      <td>6118</td>\n    </tr>\n  </tbody>\n</table>\n</div>"
     },
     "metadata": {},
     "execution_count": 19
    }
   ],
   "source": [
    "users.groupby('age').count()"
   ]
  },
  {
   "cell_type": "code",
   "execution_count": 47,
   "metadata": {},
   "outputs": [],
   "source": [
    "groups = merged.loc[merged[\"start_date\"] > min_date, [\"item_id\", 'age']].fillna('25_34').groupby('age')"
   ]
  },
  {
   "cell_type": "code",
   "execution_count": 59,
   "metadata": {},
   "outputs": [
    {
     "output_type": "stream",
     "name": "stdout",
     "text": [
      "{'18_24': array([ 80003, 283713, 184549, 385281, 287060, 267817, 276903, 168963,\n       112869,  56877]), '25_34': array([ 80003, 357309, 385281, 184549, 276903,  56877, 283713, 287060,\n       168963, 262464]), '35_44': array([184549, 283713, 357309, 385281, 168963,  80003, 242176, 276903,\n       287060,  56877]), '45_54': array([283713, 184549, 143175, 168963, 276903,  55466, 357309, 242176,\n       321351,  50718]), '55_64': array([283713, 184549, 143175,  55466, 168963, 276903, 160349,  51423,\n       323949,  79499]), '65_inf': array([283713, 184549, 143175,  55466, 160349,  51423, 374648, 276903,\n       178529, 168963])}\n"
     ]
    }
   ],
   "source": [
    "rec = {}\n",
    "for name, group in groups:\n",
    "    rec[name] = group['item_id'].value_counts().head(10).index.values\n",
    "print(rec)"
   ]
  },
  {
   "cell_type": "code",
   "execution_count": null,
   "metadata": {},
   "outputs": [],
   "source": []
  }
 ]
}