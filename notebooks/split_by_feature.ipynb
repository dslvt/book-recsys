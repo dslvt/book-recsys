{
 "metadata": {
  "language_info": {
   "codemirror_mode": {
    "name": "ipython",
    "version": 3
   },
   "file_extension": ".py",
   "mimetype": "text/x-python",
   "name": "python",
   "nbconvert_exporter": "python",
   "pygments_lexer": "ipython3",
   "version": "3.8.5"
  },
  "orig_nbformat": 2,
  "kernelspec": {
   "name": "python385jvsc74a57bd0dc2482fdb29dd640ecb4d29758d2d84408678b6b9b5484aeb59888d699bab397",
   "display_name": "Python 3.8.5 64-bit ('base': conda)"
  },
  "metadata": {
   "interpreter": {
    "hash": "585c67fcbfc0a29cb63d7efe453783044813bd2a4e8d9e51be950eac532c6793"
   }
  }
 },
 "nbformat": 4,
 "nbformat_minor": 2,
 "cells": [
  {
   "cell_type": "code",
   "execution_count": 1,
   "metadata": {},
   "outputs": [],
   "source": [
    "import pandas as pd\n",
    "import numpy as np"
   ]
  },
  {
   "cell_type": "code",
   "execution_count": 2,
   "metadata": {},
   "outputs": [
    {
     "output_type": "stream",
     "name": "stdout",
     "text": [
      "/Users/buldiga/Documents/ml/book-recsys/notebooks\n"
     ]
    }
   ],
   "source": [
    "import os\n",
    "\n",
    "print(os.getcwd())"
   ]
  },
  {
   "cell_type": "code",
   "execution_count": 3,
   "metadata": {},
   "outputs": [],
   "source": [
    "df = pd.read_csv('../large_files/interactions.csv')\n",
    "users = pd.read_csv('../large_files/users.csv')"
   ]
  },
  {
   "cell_type": "code",
   "execution_count": 4,
   "metadata": {},
   "outputs": [],
   "source": [
    "df[\"start_date\"] = pd.to_datetime(df[\"start_date\"])\n",
    "min_date = df[\"start_date\"].max().normalize() - pd.DateOffset(days=30)"
   ]
  },
  {
   "cell_type": "code",
   "execution_count": 5,
   "metadata": {},
   "outputs": [],
   "source": [
    "merged = df.merge(users, on='user_id')"
   ]
  },
  {
   "cell_type": "code",
   "execution_count": 70,
   "metadata": {},
   "outputs": [
    {
     "output_type": "execute_result",
     "data": {
      "text/plain": [
       "((826154, 5), (727426, 5))"
      ]
     },
     "metadata": {},
     "execution_count": 70
    }
   ],
   "source": [
    "df[df['progress'] < 50].shape, df[df['progress'] > 50].shape"
   ]
  },
  {
   "cell_type": "code",
   "execution_count": 11,
   "metadata": {},
   "outputs": [],
   "source": [
    "submission = pd.read_csv(\"../large_files/sample_submission.csv\")\n",
    "pred_pop = pd.DataFrame({\"user_id\": submission[\"Id\"].unique()})"
   ]
  },
  {
   "source": [
    "user_ids_pred = set(list(pred_pop['user_id']))"
   ],
   "cell_type": "code",
   "metadata": {},
   "execution_count": 72,
   "outputs": []
  },
  {
   "cell_type": "code",
   "execution_count": 73,
   "metadata": {},
   "outputs": [],
   "source": [
    "user_ids = set(list(users['user_id']))"
   ]
  },
  {
   "cell_type": "code",
   "execution_count": 74,
   "metadata": {},
   "outputs": [
    {
     "output_type": "execute_result",
     "data": {
      "text/plain": [
       "(547, 2527)"
      ]
     },
     "metadata": {},
     "execution_count": 74
    }
   ],
   "source": [
    "len(user_ids_pred.difference(user_ids)), len(user_ids_pred.intersection(user_ids))"
   ]
  },
  {
   "cell_type": "code",
   "execution_count": 12,
   "metadata": {},
   "outputs": [],
   "source": [
    "usr = pred_pop.merge(users, how='left', on='user_id')"
   ]
  },
  {
   "cell_type": "code",
   "execution_count": 47,
   "metadata": {},
   "outputs": [],
   "source": [
    "groups = merged.loc[merged[\"start_date\"] > min_date, [\"item_id\", 'age']].fillna('25_34').groupby('age')"
   ]
  },
  {
   "cell_type": "code",
   "execution_count": 59,
   "metadata": {},
   "outputs": [
    {
     "output_type": "stream",
     "name": "stdout",
     "text": [
      "{'18_24': array([ 80003, 283713, 184549, 385281, 287060, 267817, 276903, 168963,\n       112869,  56877]), '25_34': array([ 80003, 357309, 385281, 184549, 276903,  56877, 283713, 287060,\n       168963, 262464]), '35_44': array([184549, 283713, 357309, 385281, 168963,  80003, 242176, 276903,\n       287060,  56877]), '45_54': array([283713, 184549, 143175, 168963, 276903,  55466, 357309, 242176,\n       321351,  50718]), '55_64': array([283713, 184549, 143175,  55466, 168963, 276903, 160349,  51423,\n       323949,  79499]), '65_inf': array([283713, 184549, 143175,  55466, 160349,  51423, 374648, 276903,\n       178529, 168963])}\n"
     ]
    }
   ],
   "source": [
    "rec = {}\n",
    "for name, group in groups:\n",
    "    rec[name] = group['item_id'].value_counts().head(10).index.values\n",
    "print(rec)"
   ]
  },
  {
   "cell_type": "code",
   "execution_count": 90,
   "metadata": {},
   "outputs": [],
   "source": [
    "counts = users.groupby('age').count()['user_id']"
   ]
  },
  {
   "cell_type": "code",
   "execution_count": 93,
   "metadata": {},
   "outputs": [],
   "source": [
    "normalized_df=counts/counts.sum()\n"
   ]
  },
  {
   "cell_type": "code",
   "execution_count": 94,
   "metadata": {},
   "outputs": [
    {
     "output_type": "execute_result",
     "data": {
      "text/plain": [
       "age\n",
       "18_24     0.207025\n",
       "25_34     0.267414\n",
       "35_44     0.228593\n",
       "45_54     0.164933\n",
       "55_64     0.086000\n",
       "65_inf    0.046035\n",
       "Name: user_id, dtype: float64"
      ]
     },
     "metadata": {},
     "execution_count": 94
    }
   ],
   "source": [
    "normalized_df"
   ]
  },
  {
   "cell_type": "code",
   "execution_count": 97,
   "metadata": {},
   "outputs": [],
   "source": [
    "missing = merged['age'].isnull()\n"
   ]
  },
  {
   "cell_type": "code",
   "execution_count": 100,
   "metadata": {},
   "outputs": [
    {
     "output_type": "execute_result",
     "data": {
      "text/plain": [
       "array([0.20702544, 0.26741424, 0.22859287, 0.16493253, 0.08600012,\n",
       "       0.0460348 ])"
      ]
     },
     "metadata": {},
     "execution_count": 100
    }
   ],
   "source": [
    "normalized_df.values"
   ]
  },
  {
   "cell_type": "code",
   "execution_count": 101,
   "metadata": {},
   "outputs": [],
   "source": [
    "merged.loc[missing,'age'] = np.random.choice(normalized_df.index, size=len(merged[missing]),p=normalized_df.values)\n"
   ]
  },
  {
   "cell_type": "code",
   "execution_count": 9,
   "metadata": {},
   "outputs": [
    {
     "output_type": "execute_result",
     "data": {
      "text/plain": [
       "age     sex\n",
       "18_24   0.0    175837\n",
       "        1.0     45606\n",
       "25_34   0.0    253867\n",
       "        1.0     69536\n",
       "35_44   0.0    235058\n",
       "        1.0     80031\n",
       "45_54   0.0    176918\n",
       "        1.0     73505\n",
       "55_64   0.0     94163\n",
       "        1.0     38411\n",
       "65_inf  0.0     50492\n",
       "        1.0     21276\n",
       "Name: user_id, dtype: int64"
      ]
     },
     "metadata": {},
     "execution_count": 9
    }
   ],
   "source": [
    "merged.groupby(['age', 'sex'])['user_id'].count()"
   ]
  },
  {
   "cell_type": "code",
   "execution_count": 7,
   "metadata": {},
   "outputs": [
    {
     "output_type": "execute_result",
     "data": {
      "text/plain": [
       "Index(['user_id', 'item_id', 'progress', 'rating', 'start_date', 'age', 'sex'], dtype='object')"
      ]
     },
     "metadata": {},
     "execution_count": 7
    }
   ],
   "source": [
    "merged.columns"
   ]
  },
  {
   "cell_type": "code",
   "execution_count": 6,
   "metadata": {},
   "outputs": [],
   "source": [
    "merged['sex'] = merged['sex'].fillna(0.0)\n",
    "merged['age'] = merged['age'].fillna('25_34')"
   ]
  },
  {
   "cell_type": "code",
   "execution_count": 7,
   "metadata": {},
   "outputs": [],
   "source": [
    "groups = (\n",
    "            merged.loc[merged[\"start_date\"] > min_date, [\"item_id\", \"age\", \"sex\"]]\n",
    "            .groupby([\"age\", 'sex'])\n",
    "            )"
   ]
  },
  {
   "cell_type": "code",
   "execution_count": 8,
   "metadata": {},
   "outputs": [],
   "source": [
    "recs = {}\n",
    "for name, group in groups:\n",
    "    recs[name] = (group[\"item_id\"].value_counts().head(100).index.values)\n",
    "    "
   ]
  },
  {
   "cell_type": "code",
   "execution_count": 9,
   "metadata": {},
   "outputs": [
    {
     "output_type": "execute_result",
     "data": {
      "text/plain": [
       "array([ 80003, 283713, 287060, 385281, 267817, 184549, 262464,  56877,\n",
       "       131612, 334106, 168963, 357309, 187325, 112869, 376516, 276903,\n",
       "       290266, 390771, 143175, 373521,  55466, 359609,  79499, 321351,\n",
       "       137878, 292395, 117325,   5408,  51423, 280876,  11316, 127019,\n",
       "       305061, 313220, 310921, 313229, 242176, 148610, 320087,  33801,\n",
       "       140100,  51835,  85931,  40953, 201080, 374648, 114173, 354482,\n",
       "       322941, 264133, 229939, 347178,  93751,  69198, 352701, 313288,\n",
       "       229030,  61100, 104445,  23427, 325439,  80576, 364570, 386701,\n",
       "       308074, 353554, 199019, 283021, 268571, 327870,  41727, 116391,\n",
       "       120645, 329185, 266210, 352049, 327042, 229111, 327411, 263141,\n",
       "       280283, 134683, 354564, 225853,   5409, 196397, 342090, 109091,\n",
       "        93398, 344047,  38089,  21313, 194169, 210614, 231623, 306759,\n",
       "        85489, 273112, 344431, 114343])"
      ]
     },
     "metadata": {},
     "execution_count": 9
    }
   ],
   "source": [
    "recs[('18_24', 0.0)]"
   ]
  },
  {
   "cell_type": "code",
   "execution_count": 10,
   "metadata": {},
   "outputs": [
    {
     "output_type": "execute_result",
     "data": {
      "text/plain": [
       "         user_id  item_id  progress  rating start_date     age  sex\n",
       "0          90133    82910       100     NaN 2018-01-01   55_64  0.0\n",
       "1          90133   257548       100     NaN 2018-01-01   55_64  0.0\n",
       "2          90133    88712       100     NaN 2018-01-01   55_64  0.0\n",
       "3          90133   376450       100     NaN 2018-01-01   55_64  0.0\n",
       "4          90133    85323       100     NaN 2018-01-01   55_64  0.0\n",
       "...          ...      ...       ...     ...        ...     ...  ...\n",
       "1333558    69006   117325       100     NaN 2019-12-29   25_34  1.0\n",
       "1333559   134233   283713         0     NaN 2019-12-29   18_24  0.0\n",
       "1333560   102504    50124        52     NaN 2019-12-30  65_inf  1.0\n",
       "1333561   156085   123247       100     0.0 2019-12-30  65_inf  0.0\n",
       "1333562   161362   203964       100     NaN 2019-12-30  65_inf  1.0\n",
       "\n",
       "[1333563 rows x 7 columns]"
      ],
      "text/html": "<div>\n<style scoped>\n    .dataframe tbody tr th:only-of-type {\n        vertical-align: middle;\n    }\n\n    .dataframe tbody tr th {\n        vertical-align: top;\n    }\n\n    .dataframe thead th {\n        text-align: right;\n    }\n</style>\n<table border=\"1\" class=\"dataframe\">\n  <thead>\n    <tr style=\"text-align: right;\">\n      <th></th>\n      <th>user_id</th>\n      <th>item_id</th>\n      <th>progress</th>\n      <th>rating</th>\n      <th>start_date</th>\n      <th>age</th>\n      <th>sex</th>\n    </tr>\n  </thead>\n  <tbody>\n    <tr>\n      <th>0</th>\n      <td>90133</td>\n      <td>82910</td>\n      <td>100</td>\n      <td>NaN</td>\n      <td>2018-01-01</td>\n      <td>55_64</td>\n      <td>0.0</td>\n    </tr>\n    <tr>\n      <th>1</th>\n      <td>90133</td>\n      <td>257548</td>\n      <td>100</td>\n      <td>NaN</td>\n      <td>2018-01-01</td>\n      <td>55_64</td>\n      <td>0.0</td>\n    </tr>\n    <tr>\n      <th>2</th>\n      <td>90133</td>\n      <td>88712</td>\n      <td>100</td>\n      <td>NaN</td>\n      <td>2018-01-01</td>\n      <td>55_64</td>\n      <td>0.0</td>\n    </tr>\n    <tr>\n      <th>3</th>\n      <td>90133</td>\n      <td>376450</td>\n      <td>100</td>\n      <td>NaN</td>\n      <td>2018-01-01</td>\n      <td>55_64</td>\n      <td>0.0</td>\n    </tr>\n    <tr>\n      <th>4</th>\n      <td>90133</td>\n      <td>85323</td>\n      <td>100</td>\n      <td>NaN</td>\n      <td>2018-01-01</td>\n      <td>55_64</td>\n      <td>0.0</td>\n    </tr>\n    <tr>\n      <th>...</th>\n      <td>...</td>\n      <td>...</td>\n      <td>...</td>\n      <td>...</td>\n      <td>...</td>\n      <td>...</td>\n      <td>...</td>\n    </tr>\n    <tr>\n      <th>1333558</th>\n      <td>69006</td>\n      <td>117325</td>\n      <td>100</td>\n      <td>NaN</td>\n      <td>2019-12-29</td>\n      <td>25_34</td>\n      <td>1.0</td>\n    </tr>\n    <tr>\n      <th>1333559</th>\n      <td>134233</td>\n      <td>283713</td>\n      <td>0</td>\n      <td>NaN</td>\n      <td>2019-12-29</td>\n      <td>18_24</td>\n      <td>0.0</td>\n    </tr>\n    <tr>\n      <th>1333560</th>\n      <td>102504</td>\n      <td>50124</td>\n      <td>52</td>\n      <td>NaN</td>\n      <td>2019-12-30</td>\n      <td>65_inf</td>\n      <td>1.0</td>\n    </tr>\n    <tr>\n      <th>1333561</th>\n      <td>156085</td>\n      <td>123247</td>\n      <td>100</td>\n      <td>0.0</td>\n      <td>2019-12-30</td>\n      <td>65_inf</td>\n      <td>0.0</td>\n    </tr>\n    <tr>\n      <th>1333562</th>\n      <td>161362</td>\n      <td>203964</td>\n      <td>100</td>\n      <td>NaN</td>\n      <td>2019-12-30</td>\n      <td>65_inf</td>\n      <td>1.0</td>\n    </tr>\n  </tbody>\n</table>\n<p>1333563 rows × 7 columns</p>\n</div>"
     },
     "metadata": {},
     "execution_count": 10
    }
   ],
   "source": [
    "merged"
   ]
  },
  {
   "cell_type": "code",
   "execution_count": 14,
   "metadata": {},
   "outputs": [],
   "source": [
    "usr[\"sex\"] = usr[\"sex\"].fillna(0.0)\n",
    "usr[\"age\"] = usr[\"age\"].fillna(\"25_34\")"
   ]
  },
  {
   "cell_type": "code",
   "execution_count": 40,
   "metadata": {},
   "outputs": [],
   "source": [
    "usr_id = 10001\n",
    "full_readed = set(merged[(merged['user_id'] == usr_id) & (merged['progress'] == 100)]['item_id'].values)"
   ]
  },
  {
   "cell_type": "code",
   "execution_count": 38,
   "metadata": {},
   "outputs": [
    {
     "output_type": "execute_result",
     "data": {
      "text/plain": [
       "         user_id  item_id  progress  rating start_date    age  sex\n",
       "1015852    10001   186002       100     5.0 2018-12-07  25_34  0.0"
      ],
      "text/html": "<div>\n<style scoped>\n    .dataframe tbody tr th:only-of-type {\n        vertical-align: middle;\n    }\n\n    .dataframe tbody tr th {\n        vertical-align: top;\n    }\n\n    .dataframe thead th {\n        text-align: right;\n    }\n</style>\n<table border=\"1\" class=\"dataframe\">\n  <thead>\n    <tr style=\"text-align: right;\">\n      <th></th>\n      <th>user_id</th>\n      <th>item_id</th>\n      <th>progress</th>\n      <th>rating</th>\n      <th>start_date</th>\n      <th>age</th>\n      <th>sex</th>\n    </tr>\n  </thead>\n  <tbody>\n    <tr>\n      <th>1015852</th>\n      <td>10001</td>\n      <td>186002</td>\n      <td>100</td>\n      <td>5.0</td>\n      <td>2018-12-07</td>\n      <td>25_34</td>\n      <td>0.0</td>\n    </tr>\n  </tbody>\n</table>\n</div>"
     },
     "metadata": {},
     "execution_count": 38
    }
   ],
   "source": [
    "merged[(merged['user_id'] == usr_id) & (merged['progress'] == 100)]"
   ]
  },
  {
   "cell_type": "code",
   "execution_count": 21,
   "metadata": {},
   "outputs": [],
   "source": [
    "u = users[users['user_id'] == usr_id]"
   ]
  },
  {
   "cell_type": "code",
   "execution_count": 41,
   "metadata": {},
   "outputs": [],
   "source": [
    "pred = set(recs[(u['age'].values[0], u['sex'].values[0])])"
   ]
  },
  {
   "cell_type": "code",
   "execution_count": 46,
   "metadata": {},
   "outputs": [
    {
     "output_type": "execute_result",
     "data": {
      "text/plain": [
       "array([ 80003,  56877, 357309, 262464, 184549, 168963, 276903, 385281,\n",
       "       287060, 334106, 143175, 273112, 226603, 383870, 242176, 143687,\n",
       "       283713, 112869,  85489, 302067, 323949, 229111, 352701, 354482,\n",
       "         9590, 249083, 187325, 232060, 229939,  80398, 367354, 131612,\n",
       "        80576, 390771, 352049, 169354, 313220, 117325, 295495, 280876,\n",
       "       267817, 229030, 104445, 383831, 140510, 374648,  21313, 127019,\n",
       "       345570, 331291,  49048,  99132,  93751, 292395,  51423,  76348,\n",
       "       352500,  51835, 352868, 325439, 263485, 344047, 389882, 194169,\n",
       "        30755,  10543,  76747, 283800, 116391, 211381, 334123, 329185,\n",
       "        33767, 148860, 229524,  23427, 132859, 199827, 331330, 148370,\n",
       "       105797, 377922, 148610,  40953,  22119,  91236, 129825, 360740,\n",
       "       321351,  93398,  72285, 310921, 379918, 257026, 140100, 358608,\n",
       "       246948, 291259, 198945, 212419])"
      ]
     },
     "metadata": {},
     "execution_count": 46
    }
   ],
   "source": [
    "recs[(u['age'].values[0], u['sex'].values[0])]"
   ]
  },
  {
   "cell_type": "code",
   "execution_count": 43,
   "metadata": {},
   "outputs": [
    {
     "output_type": "execute_result",
     "data": {
      "text/plain": [
       "[242176,\n",
       " 385281,\n",
       " 257026,\n",
       " 168963,\n",
       " 80398,\n",
       " 379918,\n",
       " 334106,\n",
       " 331291,\n",
       " 131612,\n",
       " 129825,\n",
       " 198945,\n",
       " 30755,\n",
       " 360740,\n",
       " 267817,\n",
       " 127019,\n",
       " 292395,\n",
       " 56877,\n",
       " 226603,\n",
       " 280876,\n",
       " 334123,\n",
       " 10543,\n",
       " 352049,\n",
       " 229939,\n",
       " 93751,\n",
       " 76348,\n",
       " 99132,\n",
       " 263485,\n",
       " 325439,\n",
       " 262464,\n",
       " 283713,\n",
       " 331330,\n",
       " 377922,\n",
       " 21313,\n",
       " 140100,\n",
       " 105797,\n",
       " 295495,\n",
       " 143175,\n",
       " 143687,\n",
       " 321351,\n",
       " 117325,\n",
       " 249083,\n",
       " 287060,\n",
       " 383831,\n",
       " 72285,\n",
       " 352868,\n",
       " 91236,\n",
       " 22119,\n",
       " 323949,\n",
       " 390771,\n",
       " 9590,\n",
       " 374648,\n",
       " 194169,\n",
       " 51835,\n",
       " 232060,\n",
       " 148860,\n",
       " 383870,\n",
       " 148610,\n",
       " 80003,\n",
       " 23427,\n",
       " 313220,\n",
       " 310921,\n",
       " 169354,\n",
       " 148370,\n",
       " 199827,\n",
       " 229524,\n",
       " 283800,\n",
       " 49048,\n",
       " 246948,\n",
       " 229030,\n",
       " 116391,\n",
       " 276903,\n",
       " 354482,\n",
       " 211381,\n",
       " 367354,\n",
       " 291259,\n",
       " 357309,\n",
       " 352701,\n",
       " 187325,\n",
       " 80576,\n",
       " 212419,\n",
       " 76747,\n",
       " 358608,\n",
       " 93398,\n",
       " 273112,\n",
       " 140510,\n",
       " 51423,\n",
       " 329185,\n",
       " 345570,\n",
       " 184549,\n",
       " 112869,\n",
       " 33767,\n",
       " 344047,\n",
       " 85489,\n",
       " 302067,\n",
       " 352500,\n",
       " 229111,\n",
       " 40953,\n",
       " 389882,\n",
       " 132859,\n",
       " 104445]"
      ]
     },
     "metadata": {},
     "execution_count": 43
    }
   ],
   "source": [
    "list(pred.difference(full_readed))"
   ]
  },
  {
   "cell_type": "code",
   "execution_count": 44,
   "metadata": {},
   "outputs": [
    {
     "output_type": "execute_result",
     "data": {
      "text/plain": [
       "         user_id  item_id  progress  rating start_date     age  sex\n",
       "0          90133    82910       100     NaN 2018-01-01   55_64  0.0\n",
       "1          90133   257548       100     NaN 2018-01-01   55_64  0.0\n",
       "2          90133    88712       100     NaN 2018-01-01   55_64  0.0\n",
       "3          90133   376450       100     NaN 2018-01-01   55_64  0.0\n",
       "4          90133    85323       100     NaN 2018-01-01   55_64  0.0\n",
       "...          ...      ...       ...     ...        ...     ...  ...\n",
       "1333558    69006   117325       100     NaN 2019-12-29   25_34  1.0\n",
       "1333559   134233   283713         0     NaN 2019-12-29   18_24  0.0\n",
       "1333560   102504    50124        52     NaN 2019-12-30  65_inf  1.0\n",
       "1333561   156085   123247       100     0.0 2019-12-30  65_inf  0.0\n",
       "1333562   161362   203964       100     NaN 2019-12-30  65_inf  1.0\n",
       "\n",
       "[1333563 rows x 7 columns]"
      ],
      "text/html": "<div>\n<style scoped>\n    .dataframe tbody tr th:only-of-type {\n        vertical-align: middle;\n    }\n\n    .dataframe tbody tr th {\n        vertical-align: top;\n    }\n\n    .dataframe thead th {\n        text-align: right;\n    }\n</style>\n<table border=\"1\" class=\"dataframe\">\n  <thead>\n    <tr style=\"text-align: right;\">\n      <th></th>\n      <th>user_id</th>\n      <th>item_id</th>\n      <th>progress</th>\n      <th>rating</th>\n      <th>start_date</th>\n      <th>age</th>\n      <th>sex</th>\n    </tr>\n  </thead>\n  <tbody>\n    <tr>\n      <th>0</th>\n      <td>90133</td>\n      <td>82910</td>\n      <td>100</td>\n      <td>NaN</td>\n      <td>2018-01-01</td>\n      <td>55_64</td>\n      <td>0.0</td>\n    </tr>\n    <tr>\n      <th>1</th>\n      <td>90133</td>\n      <td>257548</td>\n      <td>100</td>\n      <td>NaN</td>\n      <td>2018-01-01</td>\n      <td>55_64</td>\n      <td>0.0</td>\n    </tr>\n    <tr>\n      <th>2</th>\n      <td>90133</td>\n      <td>88712</td>\n      <td>100</td>\n      <td>NaN</td>\n      <td>2018-01-01</td>\n      <td>55_64</td>\n      <td>0.0</td>\n    </tr>\n    <tr>\n      <th>3</th>\n      <td>90133</td>\n      <td>376450</td>\n      <td>100</td>\n      <td>NaN</td>\n      <td>2018-01-01</td>\n      <td>55_64</td>\n      <td>0.0</td>\n    </tr>\n    <tr>\n      <th>4</th>\n      <td>90133</td>\n      <td>85323</td>\n      <td>100</td>\n      <td>NaN</td>\n      <td>2018-01-01</td>\n      <td>55_64</td>\n      <td>0.0</td>\n    </tr>\n    <tr>\n      <th>...</th>\n      <td>...</td>\n      <td>...</td>\n      <td>...</td>\n      <td>...</td>\n      <td>...</td>\n      <td>...</td>\n      <td>...</td>\n    </tr>\n    <tr>\n      <th>1333558</th>\n      <td>69006</td>\n      <td>117325</td>\n      <td>100</td>\n      <td>NaN</td>\n      <td>2019-12-29</td>\n      <td>25_34</td>\n      <td>1.0</td>\n    </tr>\n    <tr>\n      <th>1333559</th>\n      <td>134233</td>\n      <td>283713</td>\n      <td>0</td>\n      <td>NaN</td>\n      <td>2019-12-29</td>\n      <td>18_24</td>\n      <td>0.0</td>\n    </tr>\n    <tr>\n      <th>1333560</th>\n      <td>102504</td>\n      <td>50124</td>\n      <td>52</td>\n      <td>NaN</td>\n      <td>2019-12-30</td>\n      <td>65_inf</td>\n      <td>1.0</td>\n    </tr>\n    <tr>\n      <th>1333561</th>\n      <td>156085</td>\n      <td>123247</td>\n      <td>100</td>\n      <td>0.0</td>\n      <td>2019-12-30</td>\n      <td>65_inf</td>\n      <td>0.0</td>\n    </tr>\n    <tr>\n      <th>1333562</th>\n      <td>161362</td>\n      <td>203964</td>\n      <td>100</td>\n      <td>NaN</td>\n      <td>2019-12-30</td>\n      <td>65_inf</td>\n      <td>1.0</td>\n    </tr>\n  </tbody>\n</table>\n<p>1333563 rows × 7 columns</p>\n</div>"
     },
     "metadata": {},
     "execution_count": 44
    }
   ],
   "source": [
    "merged"
   ]
  },
  {
   "cell_type": "code",
   "execution_count": null,
   "metadata": {},
   "outputs": [],
   "source": []
  }
 ]
}